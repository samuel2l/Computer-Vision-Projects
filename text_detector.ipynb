{
 "cells": [
  {
   "cell_type": "code",
   "execution_count": null,
   "metadata": {},
   "outputs": [
    {
     "name": "stderr",
     "output_type": "stream",
     "text": [
      "Using CPU. Note: This module is much faster with a GPU.\n",
      "Downloading detection model, please wait. This may take several minutes depending upon your network connection.\n"
     ]
    }
   ],
   "source": [
    "import cv2\n",
    "import easyocr\n",
    "import matplotlib.pyplot as plt\n",
    "import numpy as np\n",
    "\n",
    "image_path = '/Users/samuel/realtime_obj_detection/obj detection/IMG_2834.JPG'\n",
    "\n",
    "img = cv2.imread(image_path)\n",
    "\n",
    "reader = easyocr.Reader(['en'], gpu=False)\n",
    "\n",
    "text_ = reader.readtext(img)\n",
    "\n",
    "threshold = 0.25\n",
    "for t_, t in enumerate(text_):\n",
    "    print(t)\n",
    "\n",
    "    bbox, text, score = t\n",
    "\n",
    "    if score > threshold:\n",
    "        cv2.rectangle(img, bbox[0], bbox[2], (0, 255, 0), 5)\n",
    "        cv2.putText(img, text, bbox[0], cv2.FONT_HERSHEY_COMPLEX, 0.65, (255, 0, 0), 2)\n",
    "\n",
    "plt.imshow(cv2.cvtColor(img, cv2.COLOR_BGR2RGB))\n",
    "plt.show()"
   ]
  },
  {
   "cell_type": "code",
   "execution_count": null,
   "metadata": {},
   "outputs": [],
   "source": []
  }
 ],
 "metadata": {
  "kernelspec": {
   "display_name": "myvenv",
   "language": "python",
   "name": "python3"
  },
  "language_info": {
   "codemirror_mode": {
    "name": "ipython",
    "version": 3
   },
   "file_extension": ".py",
   "mimetype": "text/x-python",
   "name": "python",
   "nbconvert_exporter": "python",
   "pygments_lexer": "ipython3",
   "version": "3.12.7"
  }
 },
 "nbformat": 4,
 "nbformat_minor": 2
}
